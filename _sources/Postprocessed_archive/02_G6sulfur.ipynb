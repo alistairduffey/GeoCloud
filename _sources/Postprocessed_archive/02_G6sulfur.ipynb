{
 "cells": [
  {
   "cell_type": "markdown",
   "id": "43dfcc15-2002-4cdb-8489-5d60e9328594",
   "metadata": {},
   "source": [
    "### postprocess GeoMIP\n",
    "\n",
    "Alistair Duffey, october 2024\n",
    "\n",
    "All models with G6sulfur runs\n",
    "\n",
    "N.B.: runs over the CEDA archive data structure "
   ]
  },
  {
   "cell_type": "code",
   "execution_count": 7,
   "id": "3e290a7b-3433-4d4b-b1de-2a98b000ac0b",
   "metadata": {},
   "outputs": [],
   "source": [
    "import os\n",
    "import glob\n",
    "import pandas as pd\n",
    "import numpy as np\n",
    "import xarray as xr\n",
    "from xmip.preprocessing import rename_cmip6\n",
    "import matplotlib\n",
    "import matplotlib.pyplot as plt\n",
    "from tqdm import tqdm"
   ]
  },
  {
   "cell_type": "code",
   "execution_count": 15,
   "id": "776f51da-eaf6-4535-9768-5b9252a17667",
   "metadata": {},
   "outputs": [],
   "source": [
    "models = ['IPSL-CM6A-LR', 'UKESM1-0-LL', 'MPI-ESM1-2-HR', 'MPI-ESM1-2-LR', 'CESM2-WACCM', 'CNRM-ESM2-1']\n",
    "\n",
    "scenarios = ['G6sulfur', 'ssp245', 'ssp585']\n",
    "\n",
    "scenario_types = {'G6sulfur':'GeoMIP',\n",
    "                  'ssp245':'ScenarioMIP',\n",
    "                  'ssp585':'ScenarioMIP'}\n",
    "\n",
    "\n",
    "# time-periods over which to take means\n",
    "assessment_periods = {'Future':slice('2080', '2099'),\n",
    "                      'Baseline':slice('2015', '2034')}\n",
    "\n",
    "## we don't use ensemble member inputs here - instead search over available members in each case\n",
    "ensemble_members = {\n",
    "                    'IPSL-CM6A-LR':['r1i1p1f1'],\n",
    "                    'UKESM1-0-LL':['r1i1p1f2', 'r4i1p1f2', 'r8i1p1f2'],\n",
    "                    'MPI-ESM1-2-HR':['r1i1p1f1', 'r2i1p1f1', 'r3i1p1f1'],\n",
    "                    'MPI-ESM1-2-LR':['r1i1p1f1', 'r2i1p1f1', 'r3i1p1f1'],\n",
    "                    'CESM2-WACCM':['r1i1p1f2', 'r2i1p1f2'],\n",
    "                    'CNRM-ESM2-1':['r1i1p1f2', 'r2i1p1f2', 'r3i1p1f2']\n",
    "                    }"
   ]
  },
  {
   "cell_type": "markdown",
   "id": "9fef7652-bafd-42bd-b6d9-d0083be38e6f",
   "metadata": {},
   "source": [
    "#### output structure \n",
    "pp_archive/GeoMIP/model/scenario/ensemble_member/maps/table/variable/file.nc\n",
    "\n",
    "because the number of members varies between 1 and a few, it doesn't make sense to save ensemble means and stds, instead save outputs for each member individually."
   ]
  },
  {
   "cell_type": "code",
   "execution_count": null,
   "id": "f7341775-9c5a-49e8-80e5-54d4325a9017",
   "metadata": {},
   "outputs": [],
   "source": []
  },
  {
   "cell_type": "code",
   "execution_count": 4,
   "id": "d1f11aa7-4e1e-4589-b6c9-4675eb3d0250",
   "metadata": {},
   "outputs": [],
   "source": [
    "# all the CMIP7 BCVs which are monthly and on a single level:\n",
    "# see markdown table below for details on variable meanings\n",
    "vars_dict = {\n",
    "             'prw':'Amon',\n",
    "             'evspsbl':'Amon',\n",
    "             'clivi':'Amon',\n",
    "             'clt':'Amon',\n",
    "             'clwvi':'Amon',\n",
    "             'hfss':'Amon',\n",
    "             'rlds':'Amon',\n",
    "             'rsldscs':'Amon',\n",
    "             'rlus':'Amon',\n",
    "             'rlut':'Amon',\n",
    "             'rlutcs':'Amon',\n",
    "             'rsds':'Amon',\n",
    "             'rsdscs':'Amon',\n",
    "             'rsdt':'Amon',\n",
    "             'rsus':'Amon',\n",
    "             'rsuscs':'Amon',\n",
    "             'rsut':'Amon',\n",
    "             'rsutcs':'Amon',\n",
    "             'pr':'Amon',\n",
    "             'tas':'Amon',\n",
    "             'uas':'Amon',\n",
    "             'vas':'Amon',\n",
    "             'hfls':'Amon',\n",
    "             'hurs':'Amon',\n",
    "             'huss':'Amon',\n",
    "             'prc':'Amon',\n",
    "             'prsn':'Amon',\n",
    "             'ps':'Amon',\n",
    "             'psl':'Amon',\n",
    "             'sfcWind':'Amon',\n",
    "             'tasmax':'Amon',\n",
    "             'tasmin':'Amon',\n",
    "             'tauu':'Amon',\n",
    "             'tauv':'Amon',\n",
    "             'ts':'Amon',\n",
    "             'evspsblsoi':'Lmon',\n",
    "             'lai':'Lmon',\n",
    "             'mrfso':'Lmon',\n",
    "             'mrro':'Lmon',\n",
    "             'mrros':'Lmon',\n",
    "             'mrso':'Lmon',\n",
    "             'mrsos':'Lmon',\n",
    "             'hfds':'Omon',\n",
    "             'mlotst':'Omon',\n",
    "             'sos':'Omon',\n",
    "             'tauuo':'Omon',\n",
    "             'tauvo':'Omon',\n",
    "             'tos':'Omon',\n",
    "             'zos':'Omon'\n",
    "            }\n",
    "## see 01a for meanings of variables\n",
    "\n",
    "# seasons\n",
    "seasons = ['DJF', 'MAM', 'JJA', 'SON']"
   ]
  },
  {
   "cell_type": "code",
   "execution_count": 13,
   "id": "ceed467f-84a5-4c6d-b005-27b555a4762d",
   "metadata": {},
   "outputs": [],
   "source": [
    "### get data\n",
    "\n",
    "def get_data_ssp_G6(model, scenario, variable, table):\n",
    "    root = '/badc/cmip6/data/CMIP6/' # CEDA archive root\n",
    "    \n",
    "    ens_mems_mod = ensemble_members[model]\n",
    "    ds_list = []\n",
    "    \n",
    "    for es in ens_mems_mod:\n",
    "        path = glob.glob(root + '*/*/{m}/{s}/{e}/{t}/{v}/*/latest/'.format(\n",
    "                        m=model, s=scenario, t=table, v=variable, e=es))[0]\n",
    "        ds = rename_cmip6(xr.open_mfdataset(path+'*.nc'))\n",
    "        if 'height' in ds.variables:\n",
    "            ds = ds.drop_vars('height')\n",
    "        if 'type' in ds.variables:\n",
    "            ds = ds.drop_vars('type')\n",
    "            \n",
    "        ## rename \n",
    "        ds_list.append(ds)\n",
    "    \n",
    "    DS = xr.concat(ds_list, dim='Ensemble_member')\n",
    "    return DS\n",
    "\n",
    "def get_time_period(ds, slice_label):\n",
    "    ds_out = ds.sel(time=assessment_periods[slice_label])\n",
    "    ds_out.attrs['t_bnds'] = str(assessment_periods[slice_label].start+'_'+assessment_periods[slice_label].stop)\n",
    "    return ds_out"
   ]
  },
  {
   "cell_type": "code",
   "execution_count": 14,
   "id": "d94af802-efb5-4860-bb80-c22249ea5675",
   "metadata": {},
   "outputs": [],
   "source": [
    "def process_and_save_maps(ds, ds_seasonal, \n",
    "                          var, table, member,\n",
    "                          label, seasons=seasons):\n",
    "    \"\"\" \n",
    "    Inputs\n",
    "    ds: a time resolved, quarterly resampled, spatial dataset, with an ensemble_member dimension\n",
    "    label: 'SSP245_baseline', 'G6sulfur', 'SSP245_target', 'SSP585_target'. Defines naming of outputs. \n",
    "    \n",
    "    Function saves the mean and time standard deviation for each ens_mems\n",
    "    \"\"\"\n",
    "    \n",
    "    outpath = 'pp_archive/GeoMIP/{m}/{es}/maps/{s}/{t}/{v}/'.format(m=model, es=member, s=scenario,\n",
    "                                                                l=label, t=table, v=var)\n",
    "    \n",
    "    os.makedirs(outpath+'/std/', exist_ok=True)\n",
    "    os.makedirs(outpath+'/mean/', exist_ok=True)\n",
    "    \n",
    "    t_bnds = ds_seasonal.t_bnds\n",
    "    for season in seasons:\n",
    "        ds_season = ds_seasonal.where(ds_seasonal.time.dt.season == season, drop=True)\n",
    "        std = ds_season.std(dim='time')\n",
    "        mean = ds_season.mean(dim='time')\n",
    "        \n",
    "        std.to_netcdf(path + '/std/' +'{v}_{l}_{es}_{s}_{t}_std.nc'.format(v=var, l=label, es=member,\n",
    "                                                                           s=season, t=t_bnds))\n",
    "        mean.to_netcdf(path + '/mean/' + '{v}_{l}_{es}_{s}_{t}_mean.nc'.format(v=var, l=label, es=member,\n",
    "                                                                               s=season, t=t_bnds))\n",
    "\n",
    "    t_bnds = ds.t_bnds\n",
    "    # repeat for the annual mean:\n",
    "    std = ds.std(dim='time')\n",
    "    mean = ds.mean(dim='time')\n",
    "    \n",
    "    std.to_netcdf(path + '/std/' + '{v}_{l}_{es}_annual_{t}_std.nc'.format(v=var, l=label, \n",
    "                                                                           es=member, t=t_bnds))\n",
    "    mean.to_netcdf(path + '/mean/' + '{v}_{l}_{es}_annual_{t}_mean.nc'.format(v=var, l=label, \n",
    "                                                                              es=member, t=t_bnds))\n",
    "    return"
   ]
  },
  {
   "cell_type": "code",
   "execution_count": 16,
   "id": "28bbd1d6-681e-4650-a65a-d7971e59b3af",
   "metadata": {},
   "outputs": [
    {
     "name": "stdout",
     "output_type": "stream",
     "text": [
      "IPSL-CM6A-LR\n"
     ]
    },
    {
     "name": "stderr",
     "output_type": "stream",
     "text": [
      "  0%|          | 0/49 [00:00<?, ?it/s]"
     ]
    },
    {
     "name": "stdout",
     "output_type": "stream",
     "text": [
      "prw\n"
     ]
    },
    {
     "name": "stderr",
     "output_type": "stream",
     "text": [
      "/home/users/a_duffey/.conda/envs/cmipv2/lib/python3.12/site-packages/xarray/coding/times.py:992: SerializationWarning: Unable to decode time axis into full numpy.datetime64 objects, continuing using cftime.datetime objects instead, reason: dates out of range\n",
      "  dtype = _decode_cf_datetime_dtype(data, units, calendar, self.use_cftime)\n",
      "/home/users/a_duffey/.conda/envs/cmipv2/lib/python3.12/site-packages/xarray/coding/times.py:992: SerializationWarning: Unable to decode time axis into full numpy.datetime64 objects, continuing using cftime.datetime objects instead, reason: dates out of range\n",
      "  dtype = _decode_cf_datetime_dtype(data, units, calendar, self.use_cftime)\n",
      "/home/users/a_duffey/.conda/envs/cmipv2/lib/python3.12/site-packages/xarray/core/indexing.py:526: SerializationWarning: Unable to decode time axis into full numpy.datetime64 objects, continuing using cftime.datetime objects instead, reason: dates out of range\n",
      "  return np.asarray(self.get_duck_array(), dtype=dtype)\n",
      "  0%|          | 0/49 [00:04<?, ?it/s]\n"
     ]
    },
    {
     "ename": "TypeError",
     "evalue": "Cannot combine along dimension 'time' with mixed types. Found: DatetimeGregorian, Timestamp. If importing data directly from a file then setting `use_cftime=True` may fix this issue.",
     "output_type": "error",
     "traceback": [
      "\u001b[0;31m---------------------------------------------------------------------------\u001b[0m",
      "\u001b[0;31mTypeError\u001b[0m                                 Traceback (most recent call last)",
      "Cell \u001b[0;32mIn[16], line 10\u001b[0m\n\u001b[1;32m      7\u001b[0m \u001b[38;5;66;03m# get data\u001b[39;00m\n\u001b[1;32m      8\u001b[0m ds_ssp245 \u001b[38;5;241m=\u001b[39m get_data_ssp_G6(model\u001b[38;5;241m=\u001b[39mmodel, scenario\u001b[38;5;241m=\u001b[39m\u001b[38;5;124m'\u001b[39m\u001b[38;5;124mssp245\u001b[39m\u001b[38;5;124m'\u001b[39m,\n\u001b[1;32m      9\u001b[0m                             variable\u001b[38;5;241m=\u001b[39mvar, table\u001b[38;5;241m=\u001b[39mvars_dict[var])\n\u001b[0;32m---> 10\u001b[0m ds_ssp585 \u001b[38;5;241m=\u001b[39m \u001b[43mget_data_ssp_G6\u001b[49m\u001b[43m(\u001b[49m\u001b[43mmodel\u001b[49m\u001b[38;5;241;43m=\u001b[39;49m\u001b[43mmodel\u001b[49m\u001b[43m,\u001b[49m\u001b[43m \u001b[49m\u001b[43mscenario\u001b[49m\u001b[38;5;241;43m=\u001b[39;49m\u001b[38;5;124;43m'\u001b[39;49m\u001b[38;5;124;43mssp585\u001b[39;49m\u001b[38;5;124;43m'\u001b[39;49m\u001b[43m,\u001b[49m\n\u001b[1;32m     11\u001b[0m \u001b[43m                            \u001b[49m\u001b[43mvariable\u001b[49m\u001b[38;5;241;43m=\u001b[39;49m\u001b[43mvar\u001b[49m\u001b[43m,\u001b[49m\u001b[43m \u001b[49m\u001b[43mtable\u001b[49m\u001b[38;5;241;43m=\u001b[39;49m\u001b[43mvars_dict\u001b[49m\u001b[43m[\u001b[49m\u001b[43mvar\u001b[49m\u001b[43m]\u001b[49m\u001b[43m)\u001b[49m\n\u001b[1;32m     12\u001b[0m ds_G6sulfur \u001b[38;5;241m=\u001b[39m get_data_ssp_G6(model\u001b[38;5;241m=\u001b[39mmodel, scenario\u001b[38;5;241m=\u001b[39m\u001b[38;5;124m'\u001b[39m\u001b[38;5;124mG6sulfur\u001b[39m\u001b[38;5;124m'\u001b[39m,\n\u001b[1;32m     13\u001b[0m                             variable\u001b[38;5;241m=\u001b[39mvar, table\u001b[38;5;241m=\u001b[39mvars_dict[var])\n\u001b[1;32m     15\u001b[0m ds_ssp245_seasonal \u001b[38;5;241m=\u001b[39m ds_ssp245\u001b[38;5;241m.\u001b[39mresample(time\u001b[38;5;241m=\u001b[39m\u001b[38;5;124m\"\u001b[39m\u001b[38;5;124mQS-DEC\u001b[39m\u001b[38;5;124m\"\u001b[39m)\u001b[38;5;241m.\u001b[39mmean()\n",
      "Cell \u001b[0;32mIn[13], line 12\u001b[0m, in \u001b[0;36mget_data_ssp_G6\u001b[0;34m(model, scenario, variable, table)\u001b[0m\n\u001b[1;32m      9\u001b[0m \u001b[38;5;28;01mfor\u001b[39;00m es \u001b[38;5;129;01min\u001b[39;00m ens_mems_mod:\n\u001b[1;32m     10\u001b[0m     path \u001b[38;5;241m=\u001b[39m glob\u001b[38;5;241m.\u001b[39mglob(root \u001b[38;5;241m+\u001b[39m \u001b[38;5;124m'\u001b[39m\u001b[38;5;124m*/*/\u001b[39m\u001b[38;5;132;01m{m}\u001b[39;00m\u001b[38;5;124m/\u001b[39m\u001b[38;5;132;01m{s}\u001b[39;00m\u001b[38;5;124m/\u001b[39m\u001b[38;5;132;01m{e}\u001b[39;00m\u001b[38;5;124m/\u001b[39m\u001b[38;5;132;01m{t}\u001b[39;00m\u001b[38;5;124m/\u001b[39m\u001b[38;5;132;01m{v}\u001b[39;00m\u001b[38;5;124m/*/latest/\u001b[39m\u001b[38;5;124m'\u001b[39m\u001b[38;5;241m.\u001b[39mformat(\n\u001b[1;32m     11\u001b[0m                     m\u001b[38;5;241m=\u001b[39mmodel, s\u001b[38;5;241m=\u001b[39mscenario, t\u001b[38;5;241m=\u001b[39mtable, v\u001b[38;5;241m=\u001b[39mvariable, e\u001b[38;5;241m=\u001b[39mes))[\u001b[38;5;241m0\u001b[39m]\n\u001b[0;32m---> 12\u001b[0m     ds \u001b[38;5;241m=\u001b[39m rename_cmip6(\u001b[43mxr\u001b[49m\u001b[38;5;241;43m.\u001b[39;49m\u001b[43mopen_mfdataset\u001b[49m\u001b[43m(\u001b[49m\u001b[43mpath\u001b[49m\u001b[38;5;241;43m+\u001b[39;49m\u001b[38;5;124;43m'\u001b[39;49m\u001b[38;5;124;43m*.nc\u001b[39;49m\u001b[38;5;124;43m'\u001b[39;49m\u001b[43m)\u001b[49m)\n\u001b[1;32m     13\u001b[0m     \u001b[38;5;28;01mif\u001b[39;00m \u001b[38;5;124m'\u001b[39m\u001b[38;5;124mheight\u001b[39m\u001b[38;5;124m'\u001b[39m \u001b[38;5;129;01min\u001b[39;00m ds\u001b[38;5;241m.\u001b[39mvariables:\n\u001b[1;32m     14\u001b[0m         ds \u001b[38;5;241m=\u001b[39m ds\u001b[38;5;241m.\u001b[39mdrop_vars(\u001b[38;5;124m'\u001b[39m\u001b[38;5;124mheight\u001b[39m\u001b[38;5;124m'\u001b[39m)\n",
      "File \u001b[0;32m~/.conda/envs/cmipv2/lib/python3.12/site-packages/xarray/backends/api.py:1165\u001b[0m, in \u001b[0;36mopen_mfdataset\u001b[0;34m(paths, chunks, concat_dim, compat, preprocess, engine, data_vars, coords, combine, parallel, join, attrs_file, combine_attrs, **kwargs)\u001b[0m\n\u001b[1;32m   1152\u001b[0m     combined \u001b[38;5;241m=\u001b[39m _nested_combine(\n\u001b[1;32m   1153\u001b[0m         datasets,\n\u001b[1;32m   1154\u001b[0m         concat_dims\u001b[38;5;241m=\u001b[39mconcat_dim,\n\u001b[0;32m   (...)\u001b[0m\n\u001b[1;32m   1160\u001b[0m         combine_attrs\u001b[38;5;241m=\u001b[39mcombine_attrs,\n\u001b[1;32m   1161\u001b[0m     )\n\u001b[1;32m   1162\u001b[0m \u001b[38;5;28;01melif\u001b[39;00m combine \u001b[38;5;241m==\u001b[39m \u001b[38;5;124m\"\u001b[39m\u001b[38;5;124mby_coords\u001b[39m\u001b[38;5;124m\"\u001b[39m:\n\u001b[1;32m   1163\u001b[0m     \u001b[38;5;66;03m# Redo ordering from coordinates, ignoring how they were ordered\u001b[39;00m\n\u001b[1;32m   1164\u001b[0m     \u001b[38;5;66;03m# previously\u001b[39;00m\n\u001b[0;32m-> 1165\u001b[0m     combined \u001b[38;5;241m=\u001b[39m \u001b[43mcombine_by_coords\u001b[49m\u001b[43m(\u001b[49m\n\u001b[1;32m   1166\u001b[0m \u001b[43m        \u001b[49m\u001b[43mdatasets\u001b[49m\u001b[43m,\u001b[49m\n\u001b[1;32m   1167\u001b[0m \u001b[43m        \u001b[49m\u001b[43mcompat\u001b[49m\u001b[38;5;241;43m=\u001b[39;49m\u001b[43mcompat\u001b[49m\u001b[43m,\u001b[49m\n\u001b[1;32m   1168\u001b[0m \u001b[43m        \u001b[49m\u001b[43mdata_vars\u001b[49m\u001b[38;5;241;43m=\u001b[39;49m\u001b[43mdata_vars\u001b[49m\u001b[43m,\u001b[49m\n\u001b[1;32m   1169\u001b[0m \u001b[43m        \u001b[49m\u001b[43mcoords\u001b[49m\u001b[38;5;241;43m=\u001b[39;49m\u001b[43mcoords\u001b[49m\u001b[43m,\u001b[49m\n\u001b[1;32m   1170\u001b[0m \u001b[43m        \u001b[49m\u001b[43mjoin\u001b[49m\u001b[38;5;241;43m=\u001b[39;49m\u001b[43mjoin\u001b[49m\u001b[43m,\u001b[49m\n\u001b[1;32m   1171\u001b[0m \u001b[43m        \u001b[49m\u001b[43mcombine_attrs\u001b[49m\u001b[38;5;241;43m=\u001b[39;49m\u001b[43mcombine_attrs\u001b[49m\u001b[43m,\u001b[49m\n\u001b[1;32m   1172\u001b[0m \u001b[43m    \u001b[49m\u001b[43m)\u001b[49m\n\u001b[1;32m   1173\u001b[0m \u001b[38;5;28;01melse\u001b[39;00m:\n\u001b[1;32m   1174\u001b[0m     \u001b[38;5;28;01mraise\u001b[39;00m \u001b[38;5;167;01mValueError\u001b[39;00m(\n\u001b[1;32m   1175\u001b[0m         \u001b[38;5;124mf\u001b[39m\u001b[38;5;124m\"\u001b[39m\u001b[38;5;132;01m{\u001b[39;00mcombine\u001b[38;5;132;01m}\u001b[39;00m\u001b[38;5;124m is an invalid option for the keyword argument\u001b[39m\u001b[38;5;124m\"\u001b[39m\n\u001b[1;32m   1176\u001b[0m         \u001b[38;5;124m\"\u001b[39m\u001b[38;5;124m ``combine``\u001b[39m\u001b[38;5;124m\"\u001b[39m\n\u001b[1;32m   1177\u001b[0m     )\n",
      "File \u001b[0;32m~/.conda/envs/cmipv2/lib/python3.12/site-packages/xarray/core/combine.py:961\u001b[0m, in \u001b[0;36mcombine_by_coords\u001b[0;34m(data_objects, compat, data_vars, coords, fill_value, join, combine_attrs)\u001b[0m\n\u001b[1;32m    957\u001b[0m     grouped_by_vars \u001b[38;5;241m=\u001b[39m itertools\u001b[38;5;241m.\u001b[39mgroupby(sorted_datasets, key\u001b[38;5;241m=\u001b[39mvars_as_keys)\n\u001b[1;32m    959\u001b[0m     \u001b[38;5;66;03m# Perform the multidimensional combine on each group of data variables\u001b[39;00m\n\u001b[1;32m    960\u001b[0m     \u001b[38;5;66;03m# before merging back together\u001b[39;00m\n\u001b[0;32m--> 961\u001b[0m     concatenated_grouped_by_data_vars \u001b[38;5;241m=\u001b[39m \u001b[38;5;28;43mtuple\u001b[39;49m\u001b[43m(\u001b[49m\n\u001b[1;32m    962\u001b[0m \u001b[43m        \u001b[49m\u001b[43m_combine_single_variable_hypercube\u001b[49m\u001b[43m(\u001b[49m\n\u001b[1;32m    963\u001b[0m \u001b[43m            \u001b[49m\u001b[38;5;28;43mtuple\u001b[39;49m\u001b[43m(\u001b[49m\u001b[43mdatasets_with_same_vars\u001b[49m\u001b[43m)\u001b[49m\u001b[43m,\u001b[49m\n\u001b[1;32m    964\u001b[0m \u001b[43m            \u001b[49m\u001b[43mfill_value\u001b[49m\u001b[38;5;241;43m=\u001b[39;49m\u001b[43mfill_value\u001b[49m\u001b[43m,\u001b[49m\n\u001b[1;32m    965\u001b[0m \u001b[43m            \u001b[49m\u001b[43mdata_vars\u001b[49m\u001b[38;5;241;43m=\u001b[39;49m\u001b[43mdata_vars\u001b[49m\u001b[43m,\u001b[49m\n\u001b[1;32m    966\u001b[0m \u001b[43m            \u001b[49m\u001b[43mcoords\u001b[49m\u001b[38;5;241;43m=\u001b[39;49m\u001b[43mcoords\u001b[49m\u001b[43m,\u001b[49m\n\u001b[1;32m    967\u001b[0m \u001b[43m            \u001b[49m\u001b[43mcompat\u001b[49m\u001b[38;5;241;43m=\u001b[39;49m\u001b[43mcompat\u001b[49m\u001b[43m,\u001b[49m\n\u001b[1;32m    968\u001b[0m \u001b[43m            \u001b[49m\u001b[43mjoin\u001b[49m\u001b[38;5;241;43m=\u001b[39;49m\u001b[43mjoin\u001b[49m\u001b[43m,\u001b[49m\n\u001b[1;32m    969\u001b[0m \u001b[43m            \u001b[49m\u001b[43mcombine_attrs\u001b[49m\u001b[38;5;241;43m=\u001b[39;49m\u001b[43mcombine_attrs\u001b[49m\u001b[43m,\u001b[49m\n\u001b[1;32m    970\u001b[0m \u001b[43m        \u001b[49m\u001b[43m)\u001b[49m\n\u001b[1;32m    971\u001b[0m \u001b[43m        \u001b[49m\u001b[38;5;28;43;01mfor\u001b[39;49;00m\u001b[43m \u001b[49m\u001b[38;5;28;43mvars\u001b[39;49m\u001b[43m,\u001b[49m\u001b[43m \u001b[49m\u001b[43mdatasets_with_same_vars\u001b[49m\u001b[43m \u001b[49m\u001b[38;5;129;43;01min\u001b[39;49;00m\u001b[43m \u001b[49m\u001b[43mgrouped_by_vars\u001b[49m\n\u001b[1;32m    972\u001b[0m \u001b[43m    \u001b[49m\u001b[43m)\u001b[49m\n\u001b[1;32m    974\u001b[0m \u001b[38;5;28;01mreturn\u001b[39;00m merge(\n\u001b[1;32m    975\u001b[0m     concatenated_grouped_by_data_vars,\n\u001b[1;32m    976\u001b[0m     compat\u001b[38;5;241m=\u001b[39mcompat,\n\u001b[0;32m   (...)\u001b[0m\n\u001b[1;32m    979\u001b[0m     combine_attrs\u001b[38;5;241m=\u001b[39mcombine_attrs,\n\u001b[1;32m    980\u001b[0m )\n",
      "File \u001b[0;32m~/.conda/envs/cmipv2/lib/python3.12/site-packages/xarray/core/combine.py:962\u001b[0m, in \u001b[0;36m<genexpr>\u001b[0;34m(.0)\u001b[0m\n\u001b[1;32m    957\u001b[0m     grouped_by_vars \u001b[38;5;241m=\u001b[39m itertools\u001b[38;5;241m.\u001b[39mgroupby(sorted_datasets, key\u001b[38;5;241m=\u001b[39mvars_as_keys)\n\u001b[1;32m    959\u001b[0m     \u001b[38;5;66;03m# Perform the multidimensional combine on each group of data variables\u001b[39;00m\n\u001b[1;32m    960\u001b[0m     \u001b[38;5;66;03m# before merging back together\u001b[39;00m\n\u001b[1;32m    961\u001b[0m     concatenated_grouped_by_data_vars \u001b[38;5;241m=\u001b[39m \u001b[38;5;28mtuple\u001b[39m(\n\u001b[0;32m--> 962\u001b[0m         \u001b[43m_combine_single_variable_hypercube\u001b[49m\u001b[43m(\u001b[49m\n\u001b[1;32m    963\u001b[0m \u001b[43m            \u001b[49m\u001b[38;5;28;43mtuple\u001b[39;49m\u001b[43m(\u001b[49m\u001b[43mdatasets_with_same_vars\u001b[49m\u001b[43m)\u001b[49m\u001b[43m,\u001b[49m\n\u001b[1;32m    964\u001b[0m \u001b[43m            \u001b[49m\u001b[43mfill_value\u001b[49m\u001b[38;5;241;43m=\u001b[39;49m\u001b[43mfill_value\u001b[49m\u001b[43m,\u001b[49m\n\u001b[1;32m    965\u001b[0m \u001b[43m            \u001b[49m\u001b[43mdata_vars\u001b[49m\u001b[38;5;241;43m=\u001b[39;49m\u001b[43mdata_vars\u001b[49m\u001b[43m,\u001b[49m\n\u001b[1;32m    966\u001b[0m \u001b[43m            \u001b[49m\u001b[43mcoords\u001b[49m\u001b[38;5;241;43m=\u001b[39;49m\u001b[43mcoords\u001b[49m\u001b[43m,\u001b[49m\n\u001b[1;32m    967\u001b[0m \u001b[43m            \u001b[49m\u001b[43mcompat\u001b[49m\u001b[38;5;241;43m=\u001b[39;49m\u001b[43mcompat\u001b[49m\u001b[43m,\u001b[49m\n\u001b[1;32m    968\u001b[0m \u001b[43m            \u001b[49m\u001b[43mjoin\u001b[49m\u001b[38;5;241;43m=\u001b[39;49m\u001b[43mjoin\u001b[49m\u001b[43m,\u001b[49m\n\u001b[1;32m    969\u001b[0m \u001b[43m            \u001b[49m\u001b[43mcombine_attrs\u001b[49m\u001b[38;5;241;43m=\u001b[39;49m\u001b[43mcombine_attrs\u001b[49m\u001b[43m,\u001b[49m\n\u001b[1;32m    970\u001b[0m \u001b[43m        \u001b[49m\u001b[43m)\u001b[49m\n\u001b[1;32m    971\u001b[0m         \u001b[38;5;28;01mfor\u001b[39;00m \u001b[38;5;28mvars\u001b[39m, datasets_with_same_vars \u001b[38;5;129;01min\u001b[39;00m grouped_by_vars\n\u001b[1;32m    972\u001b[0m     )\n\u001b[1;32m    974\u001b[0m \u001b[38;5;28;01mreturn\u001b[39;00m merge(\n\u001b[1;32m    975\u001b[0m     concatenated_grouped_by_data_vars,\n\u001b[1;32m    976\u001b[0m     compat\u001b[38;5;241m=\u001b[39mcompat,\n\u001b[0;32m   (...)\u001b[0m\n\u001b[1;32m    979\u001b[0m     combine_attrs\u001b[38;5;241m=\u001b[39mcombine_attrs,\n\u001b[1;32m    980\u001b[0m )\n",
      "File \u001b[0;32m~/.conda/envs/cmipv2/lib/python3.12/site-packages/xarray/core/combine.py:622\u001b[0m, in \u001b[0;36m_combine_single_variable_hypercube\u001b[0;34m(datasets, fill_value, data_vars, coords, compat, join, combine_attrs)\u001b[0m\n\u001b[1;32m    616\u001b[0m \u001b[38;5;28;01mif\u001b[39;00m \u001b[38;5;28mlen\u001b[39m(datasets) \u001b[38;5;241m==\u001b[39m \u001b[38;5;241m0\u001b[39m:\n\u001b[1;32m    617\u001b[0m     \u001b[38;5;28;01mraise\u001b[39;00m \u001b[38;5;167;01mValueError\u001b[39;00m(\n\u001b[1;32m    618\u001b[0m         \u001b[38;5;124m\"\u001b[39m\u001b[38;5;124mAt least one Dataset is required to resolve variable names \u001b[39m\u001b[38;5;124m\"\u001b[39m\n\u001b[1;32m    619\u001b[0m         \u001b[38;5;124m\"\u001b[39m\u001b[38;5;124mfor combined hypercube.\u001b[39m\u001b[38;5;124m\"\u001b[39m\n\u001b[1;32m    620\u001b[0m     )\n\u001b[0;32m--> 622\u001b[0m combined_ids, concat_dims \u001b[38;5;241m=\u001b[39m \u001b[43m_infer_concat_order_from_coords\u001b[49m\u001b[43m(\u001b[49m\u001b[38;5;28;43mlist\u001b[39;49m\u001b[43m(\u001b[49m\u001b[43mdatasets\u001b[49m\u001b[43m)\u001b[49m\u001b[43m)\u001b[49m\n\u001b[1;32m    624\u001b[0m \u001b[38;5;28;01mif\u001b[39;00m fill_value \u001b[38;5;129;01mis\u001b[39;00m \u001b[38;5;28;01mNone\u001b[39;00m:\n\u001b[1;32m    625\u001b[0m     \u001b[38;5;66;03m# check that datasets form complete hypercube\u001b[39;00m\n\u001b[1;32m    626\u001b[0m     _check_shape_tile_ids(combined_ids)\n",
      "File \u001b[0;32m~/.conda/envs/cmipv2/lib/python3.12/site-packages/xarray/core/combine.py:128\u001b[0m, in \u001b[0;36m_infer_concat_order_from_coords\u001b[0;34m(datasets)\u001b[0m\n\u001b[1;32m    125\u001b[0m series \u001b[38;5;241m=\u001b[39m first_items\u001b[38;5;241m.\u001b[39mto_series()\n\u001b[1;32m    127\u001b[0m \u001b[38;5;66;03m# ensure series does not contain mixed types, e.g. cftime calendars\u001b[39;00m\n\u001b[0;32m--> 128\u001b[0m \u001b[43m_ensure_same_types\u001b[49m\u001b[43m(\u001b[49m\u001b[43mseries\u001b[49m\u001b[43m,\u001b[49m\u001b[43m \u001b[49m\u001b[43mdim\u001b[49m\u001b[43m)\u001b[49m\n\u001b[1;32m    130\u001b[0m \u001b[38;5;66;03m# Sort datasets along dim\u001b[39;00m\n\u001b[1;32m    131\u001b[0m \u001b[38;5;66;03m# We want rank but with identical elements given identical\u001b[39;00m\n\u001b[1;32m    132\u001b[0m \u001b[38;5;66;03m# position indices - they should be concatenated along another\u001b[39;00m\n\u001b[1;32m    133\u001b[0m \u001b[38;5;66;03m# dimension, not along this one\u001b[39;00m\n\u001b[1;32m    134\u001b[0m rank \u001b[38;5;241m=\u001b[39m series\u001b[38;5;241m.\u001b[39mrank(\n\u001b[1;32m    135\u001b[0m     method\u001b[38;5;241m=\u001b[39m\u001b[38;5;124m\"\u001b[39m\u001b[38;5;124mdense\u001b[39m\u001b[38;5;124m\"\u001b[39m, ascending\u001b[38;5;241m=\u001b[39mascending, numeric_only\u001b[38;5;241m=\u001b[39m\u001b[38;5;28;01mFalse\u001b[39;00m\n\u001b[1;32m    136\u001b[0m )\n",
      "File \u001b[0;32m~/.conda/envs/cmipv2/lib/python3.12/site-packages/xarray/core/combine.py:77\u001b[0m, in \u001b[0;36m_ensure_same_types\u001b[0;34m(series, dim)\u001b[0m\n\u001b[1;32m     71\u001b[0m \u001b[38;5;28;01mif\u001b[39;00m cftimes:\n\u001b[1;32m     72\u001b[0m     error_msg \u001b[38;5;241m=\u001b[39m (\n\u001b[1;32m     73\u001b[0m         \u001b[38;5;124mf\u001b[39m\u001b[38;5;124m\"\u001b[39m\u001b[38;5;132;01m{\u001b[39;00merror_msg\u001b[38;5;132;01m}\u001b[39;00m\u001b[38;5;124m If importing data directly from a file then \u001b[39m\u001b[38;5;124m\"\u001b[39m\n\u001b[1;32m     74\u001b[0m         \u001b[38;5;124mf\u001b[39m\u001b[38;5;124m\"\u001b[39m\u001b[38;5;124msetting `use_cftime=True` may fix this issue.\u001b[39m\u001b[38;5;124m\"\u001b[39m\n\u001b[1;32m     75\u001b[0m     )\n\u001b[0;32m---> 77\u001b[0m \u001b[38;5;28;01mraise\u001b[39;00m \u001b[38;5;167;01mTypeError\u001b[39;00m(error_msg)\n",
      "\u001b[0;31mTypeError\u001b[0m: Cannot combine along dimension 'time' with mixed types. Found: DatetimeGregorian, Timestamp. If importing data directly from a file then setting `use_cftime=True` may fix this issue."
     ]
    }
   ],
   "source": [
    "# MAIN\n",
    "for model in models:\n",
    "    print(model)\n",
    "    for var in tqdm(vars_dict.keys()):\n",
    "    \n",
    "        print(var)\n",
    "        # get data\n",
    "        ds_ssp245 = get_data_ssp_G6(model=model, scenario='ssp245',\n",
    "                                    variable=var, table=vars_dict[var])\n",
    "        ds_ssp585 = get_data_ssp_G6(model=model, scenario='ssp585',\n",
    "                                    variable=var, table=vars_dict[var])\n",
    "        ds_G6sulfur = get_data_ssp_G6(model=model, scenario='G6sulfur',\n",
    "                                    variable=var, table=vars_dict[var])\n",
    "        \n",
    "        ds_ssp245_seasonal = ds_ssp245.resample(time=\"QS-DEC\").mean()\n",
    "        ds_ssp585_seasonal = ds_ssp585.resample(time=\"QS-DEC\").mean()\n",
    "        ds_G6sulfur_seasonal = ds_G6sulfur.resample(time=\"QS-DEC\").mean()\n",
    "    \n",
    "        # process into time slice means:\n",
    "        ssp245_baseline, ssp245_baseline_seasonal = get_time_period(ds_ssp245, 'Baseline'), get_time_period(ds_ssp245_seasonal, 'Baseline')\n",
    "        ssp585_background, ssp585_background_seasonal = get_time_period(ds_ssp585, 'Future'), get_time_period(ds_ssp585_seasonal, 'Future')\n",
    "        ssp245_target, ssp245_target_seasonal = get_time_period(ds_ssp245, 'Future'), get_time_period(ds_ssp245_seasonal, 'Future')\n",
    "        G6sulfur_assmt, G6sulfur_assmt_seasonal = get_time_period(ds_G6sulfur, 'Future'), get_time_period(ds_G6sulfur_seasonal, 'Future')\n",
    "        \n",
    "        process_and_save_maps(ssp245_baseline, ssp245_baseline_seasonal, \n",
    "                              var=var, table='Amon', \n",
    "                              label='SSP245_baseline', seasons=seasons)\n",
    "        process_and_save_maps(ssp585_background, ssp585_background_seasonal, \n",
    "                              var=var, table='Amon', \n",
    "                              label='SSP585_background', seasons=seasons)\n",
    "        process_and_save_maps(ssp245_target, ssp245_target_seasonal, \n",
    "                              var=var, table='Amon', \n",
    "                              label='SSP245_target', seasons=seasons)\n",
    "        process_and_save_maps(G6sulfur_assmt, G6sulfur_assmt_seasonal, \n",
    "                              var=var, table='Amon', \n",
    "                              label='G6sulfur_assmt', seasons=seasons)"
   ]
  },
  {
   "cell_type": "code",
   "execution_count": null,
   "id": "b9a8ef51-4991-4f86-b2d5-4c80fbe46f74",
   "metadata": {},
   "outputs": [],
   "source": []
  },
  {
   "cell_type": "code",
   "execution_count": null,
   "id": "d38df83d-86f4-436b-9881-765dc0bda129",
   "metadata": {},
   "outputs": [],
   "source": []
  },
  {
   "cell_type": "code",
   "execution_count": null,
   "id": "e9c9d6eb-0a57-4115-a895-3184a8b0325d",
   "metadata": {},
   "outputs": [],
   "source": []
  }
 ],
 "metadata": {
  "kernelspec": {
   "display_name": "cmipv2",
   "language": "python",
   "name": "cmipv2"
  },
  "language_info": {
   "codemirror_mode": {
    "name": "ipython",
    "version": 3
   },
   "file_extension": ".py",
   "mimetype": "text/x-python",
   "name": "python",
   "nbconvert_exporter": "python",
   "pygments_lexer": "ipython3",
   "version": "3.12.6"
  }
 },
 "nbformat": 4,
 "nbformat_minor": 5
}
